{
 "cells": [
  {
   "cell_type": "code",
   "execution_count": 2,
   "metadata": {},
   "outputs": [
    {
     "name": "stdout",
     "output_type": "stream",
     "text": [
      "3\n",
      "2\n",
      "1\n",
      "0\n",
      "====================\n",
      "0\n",
      "1\n",
      "2\n",
      "3\n"
     ]
    }
   ],
   "source": [
    "# 类似于栈的先进后出\n",
    "#要有递推关系\n",
    "#要有临界\n",
    "def digui(num):\n",
    "    print(num)\n",
    "    if num > 0:\n",
    "        digui(num-1)\n",
    "    else:\n",
    "        print(\"=\"*20)\n",
    "    print(num)\n",
    "digui(3)"
   ]
  },
  {
   "cell_type": "code",
   "execution_count": 11,
   "metadata": {},
   "outputs": [
    {
     "name": "stdout",
     "output_type": "stream",
     "text": [
      "===\n",
      "===\n",
      "A ----> C\n",
      "0\n",
      "\n",
      "A ----> B\n",
      "1\n",
      "\n",
      "C ----> B\n",
      "2\n",
      "\n",
      "0\n",
      "\n",
      "A ----> C\n",
      "1\n",
      "\n",
      "===\n",
      "B ----> A\n",
      "0\n",
      "\n",
      "B ----> C\n",
      "1\n",
      "\n",
      "A ----> C\n",
      "2\n",
      "\n",
      "2\n",
      "\n"
     ]
    }
   ],
   "source": [
    "# 汉诺塔\n",
    "def move(n,a,b,c):\n",
    "    if n==1:\n",
    "        print(a,\"---->\",c)\n",
    "    else:\n",
    "        print('===')\n",
    "        move(n-1,a,c,b)\n",
    "        print(0)\n",
    "        print()\n",
    "        move(1,a,b,c)\n",
    "        print(1)\n",
    "        print()\n",
    "        move(n-1,b,a,c)\n",
    "        print(2)\n",
    "        print()\n",
    "move(3,'A','B','C')"
   ]
  },
  {
   "cell_type": "code",
   "execution_count": 13,
   "metadata": {},
   "outputs": [
    {
     "name": "stdout",
     "output_type": "stream",
     "text": [
      "Help on function join in module ntpath:\n",
      "\n",
      "join(path, *paths)\n",
      "    # Join two (or more) paths.\n",
      "\n"
     ]
    }
   ],
   "source": [
    "import os\n",
    "help(os.path.join)"
   ]
  },
  {
   "cell_type": "code",
   "execution_count": null,
   "metadata": {},
   "outputs": [],
   "source": []
  }
 ],
 "metadata": {
  "kernelspec": {
   "display_name": "Python 3",
   "language": "python",
   "name": "python3"
  },
  "language_info": {
   "codemirror_mode": {
    "name": "ipython",
    "version": 3
   },
   "file_extension": ".py",
   "mimetype": "text/x-python",
   "name": "python",
   "nbconvert_exporter": "python",
   "pygments_lexer": "ipython3",
   "version": "3.7.0"
  }
 },
 "nbformat": 4,
 "nbformat_minor": 2
}
