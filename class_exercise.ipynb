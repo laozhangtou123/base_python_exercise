{
 "cells": [
  {
   "cell_type": "code",
   "execution_count": 13,
   "metadata": {},
   "outputs": [
    {
     "name": "stdout",
     "output_type": "stream",
     "text": [
      "恭喜你注册成功\n",
      "你还没有注册\n"
     ]
    }
   ],
   "source": [
    "user_pass={\"zhangsan\":\"123\",\"lisi\":\"1234\"}\n",
    "def create_user(username,password):\n",
    "    usernames=user_pass.keys()\n",
    "    if username in usernames:\n",
    "        print(\"该用户已被注册\")\n",
    "    else:\n",
    "        user_pass[username]=password\n",
    "        print(\"恭喜你注册成功\")\n",
    "create_user(\"wangwu\",\"12345\")\n",
    "def login_pass(username,password):\n",
    "    usernames=user_pass.keys()\n",
    "    if not username in usernames:\n",
    "        print(\"你还没有注册\")\n",
    "    elif password!=user_pass[username]:\n",
    "        print(\"你的密码不正确\")\n",
    "    else:\n",
    "        print(\"登陆成功\")\n",
    "login_pass(\"lisi\",\"1234\")    "
   ]
  },
  {
   "cell_type": "code",
   "execution_count": 32,
   "metadata": {},
   "outputs": [
    {
     "name": "stdout",
     "output_type": "stream",
     "text": [
      "dict_values(['1', '2', '3'])\n"
     ]
    }
   ],
   "source": [
    "class DictClass(object):\n",
    "    def __init__(self,dict):\n",
    "        self.dict=dict\n",
    "    def del_dict(self,key):\n",
    "        if not key in self.dict.keys():\n",
    "            return \"key不在字典里\"\n",
    "        else:\n",
    "            self.pop(key)\n",
    "            return \"删除成功\"\n",
    "    def get_dict(self,key):\n",
    "        if not key in self.dict.keys():\n",
    "            return \"key不在字典里\"\n",
    "        else:\n",
    "            return self.dict[key]\n",
    "    def get_keys(self):\n",
    "        return self.dict.keys()\n",
    "    def update_dict(self,dict2):\n",
    "        self.dict=dict(**self.dict,**dict2)\n",
    "        #self.dict.update(dict2)\n",
    "        return self.dict.values()\n",
    "d1={\"a\":\"1\",\"b\":\"2\"}\n",
    "d=DictClass(d1)\n",
    "d2={\"c\":\"3\"}\n",
    "print(d.update_dict(d2))"
   ]
  },
  {
   "cell_type": "code",
   "execution_count": 19,
   "metadata": {},
   "outputs": [
    {
     "name": "stdout",
     "output_type": "stream",
     "text": [
      "{'a': 'b', 'c': 'd'}\n"
     ]
    }
   ],
   "source": [
    "print(dict((['a', 'b'],('c', 'd'))))"
   ]
  },
  {
   "cell_type": "code",
   "execution_count": 24,
   "metadata": {},
   "outputs": [
    {
     "name": "stdout",
     "output_type": "stream",
     "text": [
      "{'a': '1', 'b': '2', 'c': '3'}\n"
     ]
    }
   ],
   "source": [
    "d1={\"a\":\"1\",\"b\":\"2\"}\n",
    "d2={\"c\":\"3\"}\n",
    "d1.update(d2)\n",
    "print(d1)"
   ]
  },
  {
   "cell_type": "code",
   "execution_count": 27,
   "metadata": {},
   "outputs": [
    {
     "name": "stdout",
     "output_type": "stream",
     "text": [
      "{'b': '2'}\n"
     ]
    }
   ],
   "source": [
    "d1={\"a\":\"1\",\"b\":\"2\"}\n",
    "d1.pop(\"a\")\n",
    "print(d1)"
   ]
  },
  {
   "cell_type": "code",
   "execution_count": 33,
   "metadata": {},
   "outputs": [
    {
     "name": "stdout",
     "output_type": "stream",
     "text": [
      "<class 'set'>\n"
     ]
    }
   ],
   "source": [
    "s={1,2,3}\n",
    "print(type(s))"
   ]
  },
  {
   "cell_type": "code",
   "execution_count": 40,
   "metadata": {},
   "outputs": [
    {
     "name": "stdout",
     "output_type": "stream",
     "text": [
      "{1, 2, 3, 4, 5}\n"
     ]
    }
   ],
   "source": [
    "class SetClass(object):\n",
    "    def __init__(self,my_set):\n",
    "        self.sett=my_set\n",
    "    def add_setinfo(self,keyname):\n",
    "        self.sett.add(keyname)\n",
    "        return self.sett\n",
    "    def get_intersection(self,unioninfo):\n",
    "        if isinstance(unioninfo,set):\n",
    "            return self.sett & unioninfo\n",
    "        else:\n",
    "            return \"你传入的不是set\"\n",
    "    def get_union(self,unioninfo):\n",
    "        if isinstance(unioninfo,set):\n",
    "            return self.sett | unioninfo\n",
    "        else:\n",
    "            return \"你传入的不是set\"\n",
    "    def del_difference(self,unioninfo):\n",
    "        if isinstance(unioninfo,set):\n",
    "            return self.sett - unioninfo\n",
    "        else:\n",
    "            return \"你传入的不是set\"\n",
    "my_set={1,2,3,4}\n",
    "s=SetClass(my_set)\n",
    "\n",
    "print(s.add_setinfo(5))"
   ]
  },
  {
   "cell_type": "code",
   "execution_count": 2,
   "metadata": {},
   "outputs": [
    {
     "name": "stdout",
     "output_type": "stream",
     "text": [
      "[('a', 1), ('c', 2), ('b', -3)]\n"
     ]
    }
   ],
   "source": [
    "def by_score(t):\n",
    "    t=abs(t[1])\n",
    "    return t\n",
    "l=[('a',1),('b',-3),('c',2)]\n",
    "l1=sorted(l,key=by_score)\n",
    "print(l1)"
   ]
  },
  {
   "cell_type": "code",
   "execution_count": null,
   "metadata": {},
   "outputs": [],
   "source": []
  }
 ],
 "metadata": {
  "kernelspec": {
   "display_name": "Python 3",
   "language": "python",
   "name": "python3"
  },
  "language_info": {
   "codemirror_mode": {
    "name": "ipython",
    "version": 3
   },
   "file_extension": ".py",
   "mimetype": "text/x-python",
   "name": "python",
   "nbconvert_exporter": "python",
   "pygments_lexer": "ipython3",
   "version": "3.7.0"
  }
 },
 "nbformat": 4,
 "nbformat_minor": 2
}
