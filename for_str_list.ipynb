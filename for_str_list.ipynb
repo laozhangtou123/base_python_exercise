{
 "cells": [
  {
   "cell_type": "code",
   "execution_count": 2,
   "metadata": {},
   "outputs": [
    {
     "name": "stdout",
     "output_type": "stream",
     "text": [
      "* * * * * \n",
      "* * * * \n",
      "* * * \n",
      "* * \n",
      "* \n"
     ]
    }
   ],
   "source": [
    "#打印倒三角\n",
    "for i in range(5):\n",
    "    for j in range(5-i):\n",
    "        print(\"* \",end=\"\")\n",
    "    print()\n"
   ]
  },
  {
   "cell_type": "code",
   "execution_count": 11,
   "metadata": {},
   "outputs": [
    {
     "name": "stdout",
     "output_type": "stream",
     "text": [
      "* * * * * \n",
      "*     * \n",
      "*   * \n",
      "* * \n",
      "* \n"
     ]
    }
   ],
   "source": [
    "#打印倒空三角\n",
    "for i in range(5):\n",
    "    for j in range(5-i):\n",
    "        if i==0:\n",
    "            print(\"* \",end=\"\")\n",
    "            continue   #下面不会执行，直到if i==0执行完毕\n",
    "        if j==0 or j==4-i:\n",
    "            print(\"* \",end=\"\")\n",
    "        else:\n",
    "            print(\"  \",end=\"\")\n",
    "    print()\n"
   ]
  },
  {
   "cell_type": "code",
   "execution_count": 13,
   "metadata": {},
   "outputs": [
    {
     "name": "stdout",
     "output_type": "stream",
     "text": [
      "     * \n",
      "    * * \n",
      "   * * * \n",
      "  * * * * \n",
      " * * * * * \n"
     ]
    }
   ],
   "source": [
    "#打印正三角形\n",
    "for i in range(5):\n",
    "    for j in range(5-i):\n",
    "        print(\" \",end=\"\")\n",
    "    for m in range(i+1):\n",
    "        print(\"* \",end=\"\")\n",
    "    print()"
   ]
  },
  {
   "cell_type": "code",
   "execution_count": 31,
   "metadata": {},
   "outputs": [
    {
     "name": "stdout",
     "output_type": "stream",
     "text": [
      "     * \n",
      "    * * \n",
      "   *   * \n",
      "  *     * \n",
      " * * * * * \n"
     ]
    }
   ],
   "source": [
    "#打印空正三角形\n",
    "for i in range(5):\n",
    "    for j in range(5-i):\n",
    "        print(\" \",end=\"\")\n",
    "    for k in range(5-i,6):\n",
    "        if i==4:\n",
    "            print(\"* \",end=\"\")\n",
    "            continue\n",
    "        if k==5 or k==5-i:\n",
    "            print(\"* \",end=\"\")\n",
    "        else:\n",
    "            print(\"  \",end=\"\")\n",
    "    print()\n",
    "    "
   ]
  },
  {
   "cell_type": "markdown",
   "metadata": {},
   "source": [
    "#字符串的简单操作"
   ]
  },
  {
   "cell_type": "code",
   "execution_count": 32,
   "metadata": {},
   "outputs": [
    {
     "name": "stdout",
     "output_type": "stream",
     "text": [
      "hello world\n"
     ]
    }
   ],
   "source": [
    "#链接操作\n",
    "s1=\"hello\"\n",
    "s2=\"world\"\n",
    "s3=s1+\" \"+s2\n",
    "print(s3)"
   ]
  },
  {
   "cell_type": "code",
   "execution_count": 34,
   "metadata": {},
   "outputs": [
    {
     "name": "stdout",
     "output_type": "stream",
     "text": [
      " hello world hello world hello world hello world hello world\n"
     ]
    }
   ],
   "source": [
    "#字符串乘法\n",
    "s1=\" hello world\"\n",
    "s2=s1 * 5\n",
    "print(s2)"
   ]
  },
  {
   "cell_type": "code",
   "execution_count": 39,
   "metadata": {},
   "outputs": [
    {
     "name": "stdout",
     "output_type": "stream",
     "text": [
      "e\n",
      "hello world\n",
      "llo \n"
     ]
    }
   ],
   "source": [
    "#字符串当成列表\n",
    "s1=\"hello world\"\n",
    "print(s1[1])\n",
    "print(s1[:]) #完整切片\n",
    "print(s1[2:6]) #部分切片"
   ]
  },
  {
   "cell_type": "code",
   "execution_count": 40,
   "metadata": {},
   "outputs": [
    {
     "name": "stdout",
     "output_type": "stream",
     "text": [
      "I love china\n"
     ]
    }
   ],
   "source": [
    "#capitalize首字母大写，其余小写,返回字符串\n",
    "s = \"i love china\"\n",
    "print(s.capitalize())"
   ]
  },
  {
   "cell_type": "code",
   "execution_count": 41,
   "metadata": {},
   "outputs": [
    {
     "name": "stdout",
     "output_type": "stream",
     "text": [
      "I Love China\n"
     ]
    }
   ],
   "source": [
    "#title所有单词首字母大写，其余小写，返回字符串\n",
    "s = \"i love china\"\n",
    "s1 = s.title()\n",
    "print(s1)"
   ]
  },
  {
   "cell_type": "code",
   "execution_count": 42,
   "metadata": {},
   "outputs": [
    {
     "name": "stdout",
     "output_type": "stream",
     "text": [
      "I LOVE CHINA\n"
     ]
    }
   ],
   "source": [
    "#upper将所有字母转为大写字母，返回字符串\n",
    "s = \"i love china\"\n",
    "s1 = s.upper()\n",
    "print(s1)"
   ]
  },
  {
   "cell_type": "code",
   "execution_count": 44,
   "metadata": {},
   "outputs": [
    {
     "name": "stdout",
     "output_type": "stream",
     "text": [
      "i love china\n"
     ]
    }
   ],
   "source": [
    "#lower将所有字母转为小写字母，返回字符串\n",
    "s = \"I LOVE CHINA\"\n",
    "s1 = s.lower()\n",
    "print(s1)"
   ]
  },
  {
   "cell_type": "code",
   "execution_count": 45,
   "metadata": {},
   "outputs": [
    {
     "name": "stdout",
     "output_type": "stream",
     "text": [
      "I Love China\n"
     ]
    }
   ],
   "source": [
    "#swapcase大小写交换，返回字符串\n",
    "s = \"i lOVE cHINA\"\n",
    "s1 = s.swapcase()\n",
    "print(s1)"
   ]
  },
  {
   "cell_type": "code",
   "execution_count": 47,
   "metadata": {},
   "outputs": [
    {
     "name": "stdout",
     "output_type": "stream",
     "text": [
      "12\n"
     ]
    }
   ],
   "source": [
    "#len()计算字符串长度，不属于字符串的内建函数\n",
    "#一个汉字的长度为一\n",
    "s = \"I Love China\"\n",
    "l = len(s)\n",
    "print(l)"
   ]
  },
  {
   "cell_type": "code",
   "execution_count": 51,
   "metadata": {},
   "outputs": [
    {
     "name": "stdout",
     "output_type": "stream",
     "text": [
      "3\n",
      "5\n"
     ]
    }
   ],
   "source": [
    "#find()查找指定字符串，找不到返回-1，第一次找到返回第一次索引值\n",
    "#index()查找指定字符串，找不到报错\n",
    "s = \"kdjskariejhdsglkjsjl\"\n",
    "s1 = s.find(\"s\",3)\n",
    "s2 = s.index(\"a\")\n",
    "print(s1)\n",
    "print(s2)"
   ]
  },
  {
   "cell_type": "code",
   "execution_count": 54,
   "metadata": {},
   "outputs": [
    {
     "name": "stdout",
     "output_type": "stream",
     "text": [
      "3\n"
     ]
    }
   ],
   "source": [
    "#count()计算字符串出现次数，返回整数\n",
    "s = \"kdjskariejhdsglkjsjl\"\n",
    "s1 = s.count(\"s\")\n",
    "print(s1)"
   ]
  },
  {
   "cell_type": "code",
   "execution_count": 57,
   "metadata": {},
   "outputs": [
    {
     "name": "stdout",
     "output_type": "stream",
     "text": [
      "True\n",
      "False\n"
     ]
    }
   ],
   "source": [
    "#startswith()检测是否以指定字母开头，返回布尔值\n",
    "#endswith()检测是否以指定字母结束，返回布尔值\n",
    "s = \"i love china\"\n",
    "print(s.startswith('i'))\n",
    "print(s.endswith('h'))"
   ]
  },
  {
   "cell_type": "code",
   "execution_count": 62,
   "metadata": {},
   "outputs": [
    {
     "name": "stdout",
     "output_type": "stream",
     "text": [
      "False\n",
      "False\n",
      "False\n",
      "False\n"
     ]
    }
   ],
   "source": [
    "#isupper()检测所有字母是否是大写字母，返回布尔值\n",
    "s = \"i Love china\"\n",
    "print(s.isupper())\n",
    "#islower()检测所有字母是否是小写字母，返回布尔值\n",
    "print(s.islower())\n",
    "#istitle()检测是否每个单词首字母大写\n",
    "print(s.istitle())\n",
    "#isspace()检测字符串是否为空字符串\n",
    "print(s.isspace())"
   ]
  },
  {
   "cell_type": "code",
   "execution_count": 63,
   "metadata": {},
   "outputs": [
    {
     "name": "stdout",
     "output_type": "stream",
     "text": [
      "False\n",
      "True\n"
     ]
    }
   ],
   "source": [
    "#isalpha()检测字符串是否是字母组成，返回布尔值\n",
    "s = \"i 我love china\"\n",
    "s1 = \"i我lovechina\"\n",
    "print(s.isalpha())\n",
    "print(s1.isalpha())"
   ]
  },
  {
   "cell_type": "code",
   "execution_count": 64,
   "metadata": {},
   "outputs": [
    {
     "name": "stdout",
     "output_type": "stream",
     "text": [
      "False\n",
      "True\n",
      "True\n"
     ]
    }
   ],
   "source": [
    "#isalnum()检测字符串是否由字母或数字组成，返回布尔值\n",
    "s = \"i 我love china 123\"\n",
    "s1 = \"i我lovechina123\"\n",
    "s2 = \"3133\"\n",
    "print(s.isalnum())\n",
    "print(s1.isalnum())\n",
    "print(s2.isalnum())"
   ]
  },
  {
   "cell_type": "code",
   "execution_count": 1,
   "metadata": {},
   "outputs": [
    {
     "name": "stdout",
     "output_type": "stream",
     "text": [
      "True\n",
      "True\n",
      "True\n",
      "False\n"
     ]
    }
   ],
   "source": [
    "#isdigit检测字符串是否由整数组成\n",
    "#isnumeric\n",
    "#isdecimal\n",
    "s = \"123\"\n",
    "s1 = \"三百\"\n",
    "print(s.isdigit())\n",
    "print(s.isnumeric())\n",
    "print(s.isdecimal())\n",
    "print(s1.isdigit())\n"
   ]
  },
  {
   "cell_type": "code",
   "execution_count": 66,
   "metadata": {},
   "outputs": [
    {
     "name": "stdout",
     "output_type": "stream",
     "text": [
      "['万里长城万里空', '百世英雄百世梦']\n"
     ]
    }
   ],
   "source": [
    "#split()用指定字符切割字符串，返回由字符串组成的列表\n",
    "s = \"万里长城万里空#百世英雄百世梦\"\n",
    "l = s.split(\"#\")\n",
    "print(l)"
   ]
  },
  {
   "cell_type": "code",
   "execution_count": 67,
   "metadata": {},
   "outputs": [
    {
     "name": "stdout",
     "output_type": "stream",
     "text": [
      "['万里长城万里空', '百世英雄百世梦']\n"
     ]
    }
   ],
   "source": [
    "#splitlines()以换行切割字符串，返回由字符串组成的列表\n",
    "s = \"万里长城万里空\\n百世英雄百世梦\"\n",
    "l = s.splitlines()\n",
    "print(l)"
   ]
  },
  {
   "cell_type": "code",
   "execution_count": 70,
   "metadata": {},
   "outputs": [
    {
     "name": "stdout",
     "output_type": "stream",
     "text": [
      "万里长城万里空#百世英雄百世梦\n"
     ]
    }
   ],
   "source": [
    "#join()将列表按照指定字符串连接，返回字符串\n",
    "l = ['万里长城万里空', '百世英雄百世梦']\n",
    "s = \"#\".join(l)\n",
    "print(s)"
   ]
  },
  {
   "cell_type": "code",
   "execution_count": 71,
   "metadata": {},
   "outputs": [
    {
     "name": "stdout",
     "output_type": "stream",
     "text": [
      "3\n",
      "abc  a\n",
      "#abc#\n",
      "##abc\n"
     ]
    }
   ],
   "source": [
    "#ljust()指定字符串的长度，内容靠左边，不足的位置用指定字符串填充，默认空格，返回字符串\n",
    "s = \"abc\"\n",
    "print(len(s))\n",
    "print(s.ljust(5)+\"a\")\n",
    "#center()指定字符串的长度，内容居中，不足的位置用指定字符串填充，默认空格，返回字符串\n",
    "print(s.center(5,\"#\"))\n",
    "#rjust()指定字符串的长度，内容靠右边，不足的位置用指定字符串填充，默认空格，返回字符串\n",
    "print(s.rjust(5,\"#\"))"
   ]
  },
  {
   "cell_type": "code",
   "execution_count": 73,
   "metadata": {},
   "outputs": [
    {
     "name": "stdout",
     "output_type": "stream",
     "text": [
      "abc\n",
      "bbcc\n",
      "aabbcc\n",
      "aabbcc\n",
      "aabb\n"
     ]
    }
   ],
   "source": [
    "#strip()去掉左右两边字符串，默认去掉空格\n",
    "#lstrip()去掉左侧指定字符，默认去掉空格\n",
    "#rstrip()去掉右侧指定字符，默认去掉空格\n",
    "s = \"  abc  \"\n",
    "print(s.strip())\n",
    "s = \"aabbcc\"\n",
    "print(s.lstrip(\"a\"))\n",
    "print(s.lstrip(\"b\"))\n",
    "print(s.rstrip(\"b\"))\n",
    "print(s.rstrip(\"c\"))"
   ]
  },
  {
   "cell_type": "code",
   "execution_count": 74,
   "metadata": {},
   "outputs": [
    {
     "name": "stdout",
     "output_type": "stream",
     "text": [
      "00abc\n"
     ]
    }
   ],
   "source": [
    "#zfill()指定字符串长度，内容靠右，不足的位置用0填充\n",
    "s = \"abc\"\n",
    "print(s.zfill(5))"
   ]
  },
  {
   "cell_type": "code",
   "execution_count": 76,
   "metadata": {},
   "outputs": [
    {
     "name": "stdout",
     "output_type": "stream",
     "text": [
      "{99: 31934, 104: 32654, 105: 30340, 110: 29943, 97: 22120}\n",
      "的 love 精美的瓷器\n"
     ]
    }
   ],
   "source": [
    "#maketrans()生成用于字符串替换的映射表，两个字符串的长度必须相同\n",
    "#translate()进行字符替换\n",
    "s = \"i love china\"\n",
    "table= s.maketrans(\"china\",\"精美的瓷器\")\n",
    "print(table)\n",
    "print(s.translate(table)) "
   ]
  },
  {
   "cell_type": "code",
   "execution_count": 77,
   "metadata": {},
   "outputs": [
    {
     "name": "stdout",
     "output_type": "stream",
     "text": [
      "[1, 2, 3, 4, 5, 6]\n"
     ]
    }
   ],
   "source": [
    "#append()向列表末尾添加元素\n",
    "l = [1,2,3,4,5]\n",
    "l.append(6)\n",
    "print(l)"
   ]
  },
  {
   "cell_type": "code",
   "execution_count": 78,
   "metadata": {},
   "outputs": [
    {
     "name": "stdout",
     "output_type": "stream",
     "text": [
      "[1, 2, 3, 4, 5]\n"
     ]
    }
   ],
   "source": [
    "#copy()复制列表\n",
    "l = [1,2,3,4,5]\n",
    "l1 = l.copy()\n",
    "print(l1)"
   ]
  },
  {
   "cell_type": "code",
   "execution_count": 79,
   "metadata": {},
   "outputs": [
    {
     "name": "stdout",
     "output_type": "stream",
     "text": [
      "1\n"
     ]
    }
   ],
   "source": [
    "#count()计算某个元素在列表中出现的次数\n",
    "l = [1,2,3,4,5]\n",
    "print(l.count(1))"
   ]
  },
  {
   "cell_type": "code",
   "execution_count": 82,
   "metadata": {},
   "outputs": [
    {
     "name": "stdout",
     "output_type": "stream",
     "text": [
      "[1, 2, 3, 4, 5, 6, 7, 8, 9]\n",
      "[6, 7, 8, 9]\n",
      "None\n",
      "[1, 2, 3, 4, 5, 6, 7, 8, 9, 6, 7, 8, 9]\n"
     ]
    }
   ],
   "source": [
    "#extend()由一个列表继承另一个列表\n",
    "l1= [1,2,3,4,5]\n",
    "l2=[6,7,8,9]\n",
    "l3=l1.extend(l2)\n",
    "print(l1)\n",
    "print(l2)\n",
    "print(l3)\n",
    "print(l1+l2)"
   ]
  },
  {
   "cell_type": "code",
   "execution_count": 85,
   "metadata": {},
   "outputs": [
    {
     "name": "stdout",
     "output_type": "stream",
     "text": [
      "2\n",
      "2\n"
     ]
    }
   ],
   "source": [
    "#index()获取值在列表中的索引\n",
    "l = [1,2,3,4,5,3]\n",
    "print(l.index(3))\n",
    "print(l.index(3,2,5))"
   ]
  },
  {
   "cell_type": "code",
   "execution_count": 93,
   "metadata": {},
   "outputs": [
    {
     "name": "stdout",
     "output_type": "stream",
     "text": [
      "[1, 2, 2, 9, 4, 5, 3]\n"
     ]
    }
   ],
   "source": [
    "#insert()在指定位置前插入元素\n",
    "l = [1,2,2,4,5,3]\n",
    "l.insert(3,9)\n",
    "print(l)"
   ]
  },
  {
   "cell_type": "code",
   "execution_count": 89,
   "metadata": {},
   "outputs": [
    {
     "name": "stdout",
     "output_type": "stream",
     "text": [
      "[1, 3, 4, 5, 3]\n",
      "2\n"
     ]
    }
   ],
   "source": [
    "#pop()根据索引移除列表内一个元素，不给索引默认移除最后一个，返回移除的那个值\n",
    "l = [1,2,3,4,5,3]\n",
    "p=l.pop(1)\n",
    "print(l)\n",
    "print(p)"
   ]
  },
  {
   "cell_type": "code",
   "execution_count": 90,
   "metadata": {},
   "outputs": [
    {
     "name": "stdout",
     "output_type": "stream",
     "text": [
      "None\n",
      "['b', 'c', 'd']\n"
     ]
    }
   ],
   "source": [
    "#remove()移除列表中指定的值，返回None\n",
    "l = ['a','b','c','d']\n",
    "print(l.remove(\"a\"))\n",
    "print(l)"
   ]
  },
  {
   "cell_type": "code",
   "execution_count": 96,
   "metadata": {},
   "outputs": [
    {
     "name": "stdout",
     "output_type": "stream",
     "text": [
      "[3, 5, 4, 3, 2, 1]\n"
     ]
    }
   ],
   "source": [
    "#reverse列表反转\n",
    "l = [1,2,3,4,5,3]\n",
    "l.reverse()\n",
    "print(l)"
   ]
  },
  {
   "cell_type": "code",
   "execution_count": 99,
   "metadata": {},
   "outputs": [
    {
     "name": "stdout",
     "output_type": "stream",
     "text": [
      "[1, 2, 3, 3, 4, 5]\n",
      "[5, 4, 3, 3, 2, 1]\n"
     ]
    }
   ],
   "source": [
    "#sort()从小到大排序\n",
    "l = [1,2,3,4,5,3]\n",
    "l.sort()\n",
    "print(l)\n",
    "#从大到小排序\n",
    "l.sort(reverse=True)\n",
    "print(l)"
   ]
  },
  {
   "cell_type": "code",
   "execution_count": 3,
   "metadata": {},
   "outputs": [
    {
     "name": "stdout",
     "output_type": "stream",
     "text": [
      "{1, 3, 5}\n",
      "None\n",
      "{1, 3, 5}\n"
     ]
    }
   ],
   "source": [
    "# difference()差集\n",
    "#difference——update区别就是第一个返回一个新的集合，第二个会将原来集合覆盖\n",
    "s1 = {1,2,3,4,5}\n",
    "s2 = {2,4,6,7,8}\n",
    "s3 = s1.difference(s2)\n",
    "print(s3)\n",
    "s4 = s1.difference_update(s2)\n",
    "print(s4)\n",
    "print(s1)"
   ]
  }
 ],
 "metadata": {
  "kernelspec": {
   "display_name": "Python 3",
   "language": "python",
   "name": "python3"
  },
  "language_info": {
   "codemirror_mode": {
    "name": "ipython",
    "version": 3
   },
   "file_extension": ".py",
   "mimetype": "text/x-python",
   "name": "python",
   "nbconvert_exporter": "python",
   "pygments_lexer": "ipython3",
   "version": "3.7.0"
  }
 },
 "nbformat": 4,
 "nbformat_minor": 2
}
