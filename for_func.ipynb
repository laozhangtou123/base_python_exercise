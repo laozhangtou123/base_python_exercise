{
 "cells": [
  {
   "cell_type": "code",
   "execution_count": 3,
   "metadata": {},
   "outputs": [
    {
     "name": "stdout",
     "output_type": "stream",
     "text": [
      "* * * * * \n",
      "* * * * * \n",
      "* * * * * \n",
      "* * * * * \n"
     ]
    }
   ],
   "source": [
    "#打印一个矩形\n",
    "for i in range(4):\n",
    "    for j in range(5):\n",
    "        print(\"* \",end=\"\")\n",
    "    print() "
   ]
  },
  {
   "cell_type": "code",
   "execution_count": 5,
   "metadata": {},
   "outputs": [
    {
     "name": "stdout",
     "output_type": "stream",
     "text": [
      "* * * * * \n",
      "*       * \n",
      "*       * \n",
      "* * * * * \n"
     ]
    }
   ],
   "source": [
    "# 打印空心矩形\n",
    "for i in range(4):\n",
    "    for j in range(5):\n",
    "        if i==0 or i==3:\n",
    "            print(\"* \",end=\"\")\n",
    "        elif j==0 or j==4:\n",
    "            print(\"* \",end=\"\")\n",
    "        else:\n",
    "            print(\"  \",end=\"\")\n",
    "    print()"
   ]
  },
  {
   "cell_type": "code",
   "execution_count": 7,
   "metadata": {},
   "outputs": [
    {
     "name": "stdout",
     "output_type": "stream",
     "text": [
      "* \n",
      "* * \n",
      "* * * \n",
      "* * * * \n",
      "* * * * * \n"
     ]
    }
   ],
   "source": [
    "# 打印直角三角形\n",
    "for i in range(5):\n",
    "    for j in range(i+1):\n",
    "        print(\"* \",end=\"\")\n",
    "    print()"
   ]
  },
  {
   "cell_type": "code",
   "execution_count": 10,
   "metadata": {},
   "outputs": [
    {
     "name": "stdout",
     "output_type": "stream",
     "text": [
      "* \n",
      "* * \n",
      "*   * \n",
      "*     * \n",
      "* * * * * \n"
     ]
    }
   ],
   "source": [
    "# 打印空直角三角形\n",
    "for i in range(5):\n",
    "    for j in range(i+1):\n",
    "        if i==0 or i==4:\n",
    "            print(\"* \",end=\"\")\n",
    "        elif j==0 or j==i:\n",
    "            print(\"* \",end=\"\")\n",
    "        else:\n",
    "            print(\"  \",end=\"\")\n",
    "    print()"
   ]
  },
  {
   "cell_type": "code",
   "execution_count": 18,
   "metadata": {},
   "outputs": [
    {
     "name": "stdout",
     "output_type": "stream",
     "text": [
      "* * * * * \n",
      "* * * * \n",
      "* * * \n",
      "* * \n",
      "* \n"
     ]
    }
   ],
   "source": [
    "#打印x轴翻转直角三角形\n",
    "for i in range(5):\n",
    "    for j in range(5-i):\n",
    "        print(\"* \",end=\"\")\n",
    "    print()"
   ]
  },
  {
   "cell_type": "code",
   "execution_count": 21,
   "metadata": {},
   "outputs": [
    {
     "name": "stdout",
     "output_type": "stream",
     "text": [
      "* * * * * \n",
      "*     * \n",
      "*   * \n",
      "* * \n",
      "* \n"
     ]
    }
   ],
   "source": [
    "#打印x轴翻转直角三角形\n",
    "for i in range(5):\n",
    "    for j in range(5-i):\n",
    "        if i==0 or i==4:\n",
    "             print(\"* \",end=\"\")\n",
    "        elif j==0 or j==4-i:\n",
    "             print(\"* \",end=\"\")\n",
    "        else:\n",
    "             print(\"  \",end=\"\")\n",
    "    print()"
   ]
  },
  {
   "cell_type": "code",
   "execution_count": 23,
   "metadata": {},
   "outputs": [
    {
     "name": "stdout",
     "output_type": "stream",
     "text": [
      "     * \n",
      "    * * \n",
      "   * * * \n",
      "  * * * * \n",
      " * * * * * \n"
     ]
    }
   ],
   "source": [
    "# 打印正三角形\n",
    "for i in range(5):\n",
    "    print(\" \"*(5-i),end=\"\")\n",
    "    for j in range(4-i,5):\n",
    "        print(\"* \",end=\"\")\n",
    "    print()\n",
    "        "
   ]
  },
  {
   "cell_type": "code",
   "execution_count": 24,
   "metadata": {},
   "outputs": [
    {
     "name": "stdout",
     "output_type": "stream",
     "text": [
      "     * \n",
      "    * * \n",
      "   *   * \n",
      "  *     * \n",
      " * * * * * \n"
     ]
    }
   ],
   "source": [
    "# 打印空正三角形\n",
    "for i in range(5):\n",
    "    print(\" \"*(5-i),end=\"\")\n",
    "    for j in range(4-i,5):\n",
    "        if i==1 or i==4:\n",
    "            print(\"* \",end=\"\")\n",
    "        elif j==4 or j==4-i:\n",
    "            print(\"* \",end=\"\")\n",
    "        else:\n",
    "            print(\"  \",end=\"\")\n",
    "    print()"
   ]
  },
  {
   "cell_type": "code",
   "execution_count": 15,
   "metadata": {},
   "outputs": [
    {
     "name": "stdout",
     "output_type": "stream",
     "text": [
      "        * \n",
      "      * * \n",
      "    * * * \n",
      "  * * * * \n",
      "* * * * * \n"
     ]
    }
   ],
   "source": [
    "#打印y轴翻转直角三角形\n",
    "for i in range(5):\n",
    "    print(\"  \"*(4-i),end=\"\")\n",
    "    for j in range(i+1):\n",
    "        print(\"* \",end=\"\")\n",
    "    print()\n",
    "    "
   ]
  },
  {
   "cell_type": "code",
   "execution_count": 28,
   "metadata": {},
   "outputs": [
    {
     "name": "stdout",
     "output_type": "stream",
     "text": [
      "        * \n",
      "      * * \n",
      "    *   * \n",
      "  *     * \n",
      "* * * * * \n"
     ]
    }
   ],
   "source": [
    "#打印y轴翻转空直角三角形\n",
    "for i in range(5):\n",
    "    print(\"  \"*(4-i),end=\"\")\n",
    "    for j in range(i+1):\n",
    "        if i==0 or i==4:\n",
    "            print(\"* \",end=\"\")\n",
    "            continue\n",
    "        if j==i or j==0:\n",
    "            print(\"* \",end=\"\")\n",
    "        else:\n",
    "            print(\"  \",end=\"\")\n",
    "    print()\n",
    "    "
   ]
  },
  {
   "cell_type": "code",
   "execution_count": 29,
   "metadata": {},
   "outputs": [
    {
     "name": "stdout",
     "output_type": "stream",
     "text": [
      "     * \n",
      "    * * \n",
      "   *   * \n",
      "  * * * * \n",
      " *       * \n"
     ]
    }
   ],
   "source": [
    "# 打印字母“A”\n",
    "for i in range(5):\n",
    "    print(\" \"*(5-i),end=\"\")\n",
    "    for j in range(4-i,5):\n",
    "        if i==1 or i==3:\n",
    "            print(\"* \",end=\"\")\n",
    "        elif j==4 or j==4-i:\n",
    "            print(\"* \",end=\"\")\n",
    "        else:\n",
    "            print(\"  \",end=\"\")\n",
    "    print()"
   ]
  },
  {
   "cell_type": "code",
   "execution_count": 35,
   "metadata": {},
   "outputs": [
    {
     "name": "stdout",
     "output_type": "stream",
     "text": [
      "     * \n",
      "    * * \n",
      "   * * * \n",
      "  * * * * \n",
      " * * * * * \n",
      "* * * * * \n",
      " * * * * \n",
      "  * * * \n",
      "   * * \n",
      "    * \n"
     ]
    }
   ],
   "source": [
    "# 打印菱形\n",
    "for i in range(5):\n",
    "    print(\" \"*(5-i),end=\"\")\n",
    "    for j in range(4-i,5):\n",
    "        print(\"* \",end=\"\")\n",
    "    print()\n",
    "for i in range(5):\n",
    "    print(\" \"*i,end=\"\")\n",
    "    for j in range(i,5):\n",
    "        print(\"* \",end=\"\")\n",
    "    print()"
   ]
  },
  {
   "cell_type": "code",
   "execution_count": 33,
   "metadata": {},
   "outputs": [
    {
     "name": "stdout",
     "output_type": "stream",
     "text": [
      "     * \n",
      "    * * \n",
      "   * * * \n",
      "  * * * * \n",
      " * * * * * \n",
      "  * * * * \n",
      "   * * * \n",
      "    * * \n",
      "     * \n",
      "      \n"
     ]
    }
   ],
   "source": [
    "# 打印菱形\n",
    "for i in range(5):\n",
    "    print(\" \"*(5-i),end=\"\")\n",
    "    for j in range(4-i,5):\n",
    "        print(\"* \",end=\"\")\n",
    "    print()\n",
    "for i in range(5):\n",
    "    print(\" \"*(i+2),end=\"\")\n",
    "    for j in range(i+1,5):\n",
    "        print(\"* \",end=\"\")\n",
    "    print()"
   ]
  },
  {
   "cell_type": "code",
   "execution_count": 40,
   "metadata": {},
   "outputs": [
    {
     "name": "stdout",
     "output_type": "stream",
     "text": [
      "     * \n",
      "    * * \n",
      "   *   * \n",
      "  *     * \n",
      " *       * \n",
      "  *     * \n",
      "   *   * \n",
      "    * * \n",
      "     * \n",
      "      \n"
     ]
    }
   ],
   "source": [
    "# 打印空菱形\n",
    "for i in range(5):\n",
    "    print(\" \"*(5-i),end=\"\")\n",
    "    for j in range(4-i,5):\n",
    "        if i==1:\n",
    "            print(\"* \",end=\"\")\n",
    "        elif j==4 or j==4-i:\n",
    "            print(\"* \",end=\"\")\n",
    "        else:\n",
    "            print(\"  \",end=\"\")\n",
    "    print()\n",
    "for i in range(5):\n",
    "    print(\" \"*(i+2),end=\"\")\n",
    "    for j in range(i+1,5):\n",
    "        if j==4 or j==i+1:\n",
    "            print(\"* \",end=\"\")\n",
    "        else:\n",
    "            print(\"  \",end=\"\")\n",
    "    print()"
   ]
  },
  {
   "cell_type": "code",
   "execution_count": 47,
   "metadata": {},
   "outputs": [
    {
     "name": "stdout",
     "output_type": "stream",
     "text": [
      "       \n",
      "       \n",
      "    * * * \n",
      "   * * * * \n",
      "  * * * * * \n",
      " * * * * * * \n"
     ]
    }
   ],
   "source": [
    "# 打印梯形\n",
    "for i in range(6):\n",
    "    print(\" \"*(6-i),end=\"\")\n",
    "    for j in range(5-i,6):\n",
    "        if i==0 or i==1 :\n",
    "            print(\" \",end=\"\")\n",
    "        else:\n",
    "            print(\"* \",end=\"\")\n",
    "    print()"
   ]
  },
  {
   "cell_type": "code",
   "execution_count": 1,
   "metadata": {},
   "outputs": [
    {
     "name": "stdout",
     "output_type": "stream",
     "text": [
      "        \n",
      "         \n",
      "    * * * \n",
      "   *     * \n",
      "  *       * \n",
      " * * * * * * \n"
     ]
    }
   ],
   "source": [
    "# 打印空梯形\n",
    "for i in range(6):\n",
    "    print(\" \"*(6-i),end=\"\")\n",
    "    for j in range(5-i,6):\n",
    "        if i==2 or i==5 :\n",
    "            print(\"* \",end=\"\")\n",
    "            continue\n",
    "        if i==0 or i==1:\n",
    "            print(\"  \",end=\"\")\n",
    "            continue\n",
    "        if j==5-i or j==5:\n",
    "            print(\"* \",end=\"\")\n",
    "        else:\n",
    "            print(\"  \",end=\"\")\n",
    "    print()"
   ]
  },
  {
   "cell_type": "code",
   "execution_count": 4,
   "metadata": {},
   "outputs": [
    {
     "name": "stdout",
     "output_type": "stream",
     "text": [
      "请输入实矩形或空矩形或实三角形-1\n"
     ]
    }
   ],
   "source": [
    "# 封装函数\n",
    "while 1:\n",
    "    def s_jx():\n",
    "        for i in range(4):\n",
    "            for j in range(5):\n",
    "                print(\"* \",end=\"\")\n",
    "            print()\n",
    "\n",
    "    def k_jx():\n",
    "        for i in range(4):\n",
    "            for j in range(5):\n",
    "                if i==0 or i==3:\n",
    "                    print(\"* \",end=\"\")\n",
    "                elif j==0 or j==4:\n",
    "                    print(\"* \",end=\"\")\n",
    "                else:\n",
    "                    print(\"  \",end=\"\")\n",
    "            print()\n",
    "    def s_sj():\n",
    "        for i in range(5):\n",
    "            for j in range(i+1):\n",
    "                print(\"* \",end=\"\")\n",
    "            print()  \n",
    "\n",
    "    shape = input(\"请输入实矩形或空矩形或实三角形\")\n",
    "    if shape == \"-1\":\n",
    "        break\n",
    "    elif shape == \"实矩形\":\n",
    "        s_jx()\n",
    "    elif shape == \"空矩形\":\n",
    "        k_jx() \n",
    "    elif shape == \"实三角形\":\n",
    "        s_sj()\n",
    "    else:\n",
    "        print(\"脑子!脑子!\")"
   ]
  },
  {
   "cell_type": "code",
   "execution_count": 13,
   "metadata": {},
   "outputs": [
    {
     "name": "stdout",
     "output_type": "stream",
     "text": [
      "* *   \n",
      "*   * \n",
      "*   * \n",
      "* *   \n",
      "*   * \n",
      "*   * \n",
      "* *   \n"
     ]
    }
   ],
   "source": [
    "# 打印“B”\n",
    "for i in range(3):\n",
    "    for j in range(3):\n",
    "        if i==0 or i==3:\n",
    "            if j==0 or j==1:\n",
    "                print(\"* \",end=\"\")\n",
    "            else:\n",
    "                print(\"  \",end=\"\")\n",
    "        elif j==0 or j==2:\n",
    "            print(\"* \",end=\"\")\n",
    "        else:\n",
    "            print(\"  \",end=\"\")\n",
    "    print()\n",
    "for i in range(4):\n",
    "    for j in range(3):\n",
    "        if i==0 or i==3:\n",
    "            if j==0 or j==1:\n",
    "                print(\"* \",end=\"\")\n",
    "            else:\n",
    "                print(\"  \",end=\"\")\n",
    "        elif j==0 or j==2:\n",
    "            print(\"* \",end=\"\")\n",
    "        else:\n",
    "            print(\"  \",end=\"\")\n",
    "    print()"
   ]
  },
  {
   "cell_type": "code",
   "execution_count": 1,
   "metadata": {},
   "outputs": [
    {
     "name": "stdout",
     "output_type": "stream",
     "text": [
      "  * * \n",
      "*     \n",
      "*     \n",
      "  * * \n"
     ]
    }
   ],
   "source": [
    "# 打印字母C\n",
    "for i in range(4):\n",
    "    for j in range(3):\n",
    "        if i==0 or i==3:\n",
    "            if j==1 or j==2:\n",
    "                print(\"* \",end=\"\")\n",
    "            else:\n",
    "                print(\"  \",end=\"\")\n",
    "        elif j==0:\n",
    "            print(\"* \",end=\"\")\n",
    "        else:\n",
    "             print(\"  \",end=\"\")\n",
    "    print()"
   ]
  },
  {
   "cell_type": "code",
   "execution_count": 12,
   "metadata": {},
   "outputs": [
    {
     "name": "stdout",
     "output_type": "stream",
     "text": [
      "* *   \n",
      "*   * \n",
      "*   * \n",
      "* *   \n"
     ]
    }
   ],
   "source": [
    "# 打印“D”\n",
    "for i in range(4):\n",
    "    for j in range(3):\n",
    "        if i==0 or i==3:\n",
    "            if j==0 or j==1:\n",
    "                print(\"* \",end=\"\")\n",
    "            else:\n",
    "                print(\"  \",end=\"\")\n",
    "        elif j==0 or j==2:\n",
    "            print(\"* \",end=\"\")\n",
    "        else:\n",
    "            print(\"  \",end=\"\")\n",
    "    print()"
   ]
  },
  {
   "cell_type": "code",
   "execution_count": 4,
   "metadata": {},
   "outputs": [
    {
     "name": "stdout",
     "output_type": "stream",
     "text": [
      "* * * \n",
      "*     \n",
      "* * * \n",
      "*     \n",
      "* * * \n"
     ]
    }
   ],
   "source": [
    "# 打印字母E\n",
    "for i in range(5):\n",
    "    for j in range(3):\n",
    "        if i == 0 or i ==2 or i ==4:\n",
    "            print(\"* \",end=\"\")\n",
    "        elif j==0:\n",
    "            print(\"* \",end=\"\")\n",
    "        else:\n",
    "            print(\"  \",end=\"\")\n",
    "            \n",
    "    print()       "
   ]
  },
  {
   "cell_type": "code",
   "execution_count": 5,
   "metadata": {},
   "outputs": [
    {
     "name": "stdout",
     "output_type": "stream",
     "text": [
      "* * * \n",
      "*     \n",
      "* * * \n",
      "*     \n",
      "*     \n"
     ]
    }
   ],
   "source": [
    "# 打印字母F\n",
    "for i in range(5):\n",
    "    for j in range(3):\n",
    "        if i == 0 or i ==2:\n",
    "            print(\"* \",end=\"\")\n",
    "        elif j==0:\n",
    "            print(\"* \",end=\"\")\n",
    "        else:\n",
    "            print(\"  \",end=\"\")\n",
    "            \n",
    "    print()       "
   ]
  },
  {
   "cell_type": "code",
   "execution_count": 11,
   "metadata": {},
   "outputs": [
    {
     "name": "stdout",
     "output_type": "stream",
     "text": [
      "  * * * \n",
      "*       \n",
      "*   * * \n",
      "  * * * \n",
      "      *\n"
     ]
    }
   ],
   "source": [
    "# 打印字母G\n",
    "for i in range(5):\n",
    "    for j in range(4):\n",
    "        if i==0 or i==3:\n",
    "            if j==1 or j==2 or j==3:\n",
    "                print(\"* \",end=\"\")\n",
    "            else:\n",
    "                print(\"  \",end=\"\")\n",
    "        elif i==2:\n",
    "            if j==1:\n",
    "                print(\"  \",end=\"\")\n",
    "            else:\n",
    "                print(\"* \",end=\"\")\n",
    "        elif i==4:\n",
    "            if j==3:\n",
    "                print(\"*\",end=\"\")\n",
    "            else:\n",
    "                print(\"  \",end=\"\")\n",
    "        elif j==0:\n",
    "            print(\"* \",end=\"\")\n",
    "        else:\n",
    "             print(\"  \",end=\"\")\n",
    "    print()"
   ]
  },
  {
   "cell_type": "code",
   "execution_count": 13,
   "metadata": {},
   "outputs": [
    {
     "name": "stdout",
     "output_type": "stream",
     "text": [
      "*   * \n",
      "*   * \n",
      "* * * \n",
      "*   * \n",
      "*   * \n"
     ]
    }
   ],
   "source": [
    "# 打印字母H\n",
    "for i in range(5):\n",
    "    for j in range(3):\n",
    "        if i ==2:\n",
    "            print(\"* \",end=\"\")\n",
    "        elif j==0 or j==2:\n",
    "            print(\"* \",end=\"\")\n",
    "        else:\n",
    "            print(\"  \",end=\"\")\n",
    "            \n",
    "    print()       "
   ]
  },
  {
   "cell_type": "code",
   "execution_count": 14,
   "metadata": {},
   "outputs": [
    {
     "name": "stdout",
     "output_type": "stream",
     "text": [
      "* * * \n",
      "  *   \n",
      "  *   \n",
      "  *   \n",
      "* * * \n"
     ]
    }
   ],
   "source": [
    "# 打印字母I\n",
    "for i in range(5):\n",
    "    for j in range(3):\n",
    "        if i ==0 or i==4:\n",
    "            print(\"* \",end=\"\")\n",
    "        elif j==1:\n",
    "            print(\"* \",end=\"\")\n",
    "        else:\n",
    "            print(\"  \",end=\"\")\n",
    "    print()       "
   ]
  },
  {
   "cell_type": "code",
   "execution_count": 18,
   "metadata": {},
   "outputs": [
    {
     "name": "stdout",
     "output_type": "stream",
     "text": [
      "* * * \n",
      "  *   \n",
      "  *   \n",
      "  *   \n",
      "*     \n"
     ]
    }
   ],
   "source": [
    "# 打印字母J\n",
    "for i in range(5):\n",
    "    for j in range(3):\n",
    "        if i==0:\n",
    "            print(\"* \",end=\"\")\n",
    "        elif i==4:\n",
    "            if j==0:\n",
    "                print(\"* \",end=\"\")\n",
    "            else:\n",
    "                print(\"  \",end=\"\")\n",
    "        elif j==1:\n",
    "            print(\"* \",end=\"\")\n",
    "        else:\n",
    "            print(\"  \",end=\"\")\n",
    "    print()       "
   ]
  },
  {
   "cell_type": "code",
   "execution_count": 23,
   "metadata": {},
   "outputs": [
    {
     "name": "stdout",
     "output_type": "stream",
     "text": [
      "*       * \n",
      "*     * \n",
      "*   * \n",
      "* * \n",
      "* \n",
      "* * \n",
      "*   * \n",
      "*     * \n",
      "*       * \n"
     ]
    }
   ],
   "source": [
    "# 打印字母K\n",
    "for i in range(5):\n",
    "    for j in range(5-i):\n",
    "        if i==4:\n",
    "             print(\"* \",end=\"\")\n",
    "        elif j==0 or j==4-i:\n",
    "             print(\"* \",end=\"\")\n",
    "        else:\n",
    "             print(\"  \",end=\"\")\n",
    "    print()\n",
    "for i in range(4):\n",
    "    for j in range(i+2):\n",
    "        if i==0:\n",
    "            print(\"* \",end=\"\")\n",
    "        elif j==0 or j==i+1:\n",
    "            print(\"* \",end=\"\")\n",
    "        else:\n",
    "            print(\"  \",end=\"\")\n",
    "    print()"
   ]
  },
  {
   "cell_type": "code",
   "execution_count": 24,
   "metadata": {},
   "outputs": [
    {
     "name": "stdout",
     "output_type": "stream",
     "text": [
      "*     \n",
      "*     \n",
      "*     \n",
      "*     \n",
      "* * * \n"
     ]
    }
   ],
   "source": [
    "# 打印字母L\n",
    "for i in range(5):\n",
    "    for j in range(3):\n",
    "        if j == 0:\n",
    "            print(\"* \",end=\"\")\n",
    "        elif i ==4:\n",
    "            print(\"* \",end=\"\")\n",
    "        else:\n",
    "            print(\"  \",end=\"\")\n",
    "    print()"
   ]
  },
  {
   "cell_type": "code",
   "execution_count": 33,
   "metadata": {},
   "outputs": [
    {
     "name": "stdout",
     "output_type": "stream",
     "text": [
      "*       * \n",
      "* *   * * \n",
      "*   *   * \n"
     ]
    }
   ],
   "source": [
    "# 打印字母M\n",
    "for i in range(3):\n",
    "    for j in range(5):\n",
    "        if j ==0 or j == 4:\n",
    "            print(\"* \",end=\"\")\n",
    "        elif j==i or j==4-i:\n",
    "            print(\"* \",end=\"\")\n",
    "        else:\n",
    "            print(\"  \",end=\"\")\n",
    "    print()"
   ]
  },
  {
   "cell_type": "code",
   "execution_count": 38,
   "metadata": {},
   "outputs": [
    {
     "name": "stdout",
     "output_type": "stream",
     "text": [
      "*     * \n",
      "* *   * \n",
      "*   * * \n",
      "*     * \n"
     ]
    }
   ],
   "source": [
    "# 打印字母N\n",
    "for i in range(4):\n",
    "    for j in range(4):\n",
    "        if j==0 or j==3 or j==i:\n",
    "             print(\"* \",end=\"\")\n",
    "        else:\n",
    "             print(\"  \",end=\"\")\n",
    "    print()"
   ]
  },
  {
   "cell_type": "code",
   "execution_count": 39,
   "metadata": {},
   "outputs": [
    {
     "name": "stdout",
     "output_type": "stream",
     "text": [
      "  * *   \n",
      "*     * \n",
      "*     * \n",
      "*     * \n",
      "*     * \n",
      "  * *   \n"
     ]
    }
   ],
   "source": [
    "# 打印字母O\n",
    "for i in range(6):\n",
    "    for j in range(4):\n",
    "        if i==0 or i==5:\n",
    "            if j==1 or j==2:\n",
    "                print(\"* \",end=\"\")\n",
    "            else:\n",
    "                print(\"  \",end=\"\")\n",
    "        elif j==0 or j==3:\n",
    "            print(\"* \",end=\"\")\n",
    "        else:\n",
    "            print(\"  \",end=\"\")\n",
    "    print()"
   ]
  },
  {
   "cell_type": "code",
   "execution_count": 22,
   "metadata": {},
   "outputs": [
    {
     "name": "stdout",
     "output_type": "stream",
     "text": [
      "* *   \n",
      "*   * \n",
      "*   * \n",
      "* *   \n",
      "* * \n",
      "*   * \n"
     ]
    }
   ],
   "source": [
    "# 打印“R”\n",
    "for i in range(4):\n",
    "    for j in range(3):\n",
    "        if i==0 or i==3:\n",
    "            if j==0 or j==1:\n",
    "                print(\"* \",end=\"\")\n",
    "            else:\n",
    "                print(\"  \",end=\"\")\n",
    "        elif j==0 or j==2:\n",
    "            print(\"* \",end=\"\")\n",
    "        else:\n",
    "            print(\"  \",end=\"\")\n",
    "    print()\n",
    "for i in range(2):\n",
    "    for j in range(i+2):\n",
    "        if i ==0:\n",
    "            print(\"* \",end=\"\")\n",
    "        if i==1:\n",
    "            if j==0 or j==2:\n",
    "                print(\"* \",end=\"\")\n",
    "            else:\n",
    "                print(\"  \",end=\"\")\n",
    "    print()\n"
   ]
  },
  {
   "cell_type": "code",
   "execution_count": null,
   "metadata": {},
   "outputs": [],
   "source": []
  }
 ],
 "metadata": {
  "kernelspec": {
   "display_name": "Python 3",
   "language": "python",
   "name": "python3"
  },
  "language_info": {
   "codemirror_mode": {
    "name": "ipython",
    "version": 3
   },
   "file_extension": ".py",
   "mimetype": "text/x-python",
   "name": "python",
   "nbconvert_exporter": "python",
   "pygments_lexer": "ipython3",
   "version": "3.7.0"
  }
 },
 "nbformat": 4,
 "nbformat_minor": 2
}
